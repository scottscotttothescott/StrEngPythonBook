{
 "cells": [
  {
   "cell_type": "markdown",
   "id": "d0bd8a39",
   "metadata": {},
   "source": [
    "# Chapter 07: Phone a Friend (Libraries and Imports)\n",
    "\n",
    "In this chapter, we'll learn how use different open-source libraries in Python to perform complex tasks more easily.\n",
    "\n",
    "You may have noticed that there's a lot of different bits and bobs that can be applied to basically any line of code in Python. This is one of the reasons Python is so good, but also makes the learning curve endless. As you code, you'll pick up different ways of doing tasks constantly, but another constant is there will always be somewhere you get stuck.\n",
    "\n",
    "It's almost always problems where you'll be thinking \"I'm sure Python should be able to do this, but I don't know how to make it do it myself.\"\n",
    "\n",
    "Eg. \"Surely Python can calculate the cosine of an angle, but I don't know how to tell it to\"\n",
    "\n",
    "This chapter will go over some of the ways to get unstuck when approaching programming."
   ]
  },
  {
   "cell_type": "markdown",
   "id": "bb5966a9",
   "metadata": {},
   "source": [
    "## Libraries and Modules\n",
    "\n",
    "There are many, many different libraries of modules in Python that boil down complex but common tasks into simple functions to call.\n",
    "\n",
    "Modules can be used for tasks like maths, plotting, reading excels, creating databases, and a whole host of useful things. Some modules are standard (such as print), but others need to be imported in order to be used. \n",
    "\n",
    "Whenever you import a module and use it, you are essentially running functions in the background that other people have written, without having to write the full function into your code. E.g. If you use the cos() module from the math library, all you see is cos(your_value), but it is running a complicated set of code that is stored in the math library.\n",
    "\n",
    "To import a library, simply type the command:\n",
    "\n",
    "    import library_you_want\n",
    "\n",
    "To use a module from the imported library, we call the library, then '.', then the module:\n",
    "\n",
    "    library_you_want.module_you_want\n",
    "\n",
    "Sometimes a library has far more modules than you need, or you don't want to type the library every time you call a module. If you just want a specific module, or just want to save some typing use the command:\n",
    "\n",
    "    from library_you_want import module_you_want\n",
    "\n",
    "Another way of importing libraries that allows modules to be called with the 'library.module' syntax is:\n",
    "\n",
    "    from library_you_want import *\n",
    "\n",
    "This imports an entire library's modules into your script. Be careful when using this however, as in the rest of your script it may not be obvious where function are coming from without the 'library.module' syntax.\n",
    "\n",
    "You can also rename libraries and modules so that they are easier to call later by using the command 'as':\n",
    "\n",
    "    import library_you_want as lib\n",
    "\n",
    "This would let you call modules using 'lib.module' rather than 'library_you_want.module'.\n"
   ]
  },
  {
   "cell_type": "markdown",
   "id": "9175b462",
   "metadata": {},
   "source": [
    "### _Example_\n",
    "Python cannot calculate cos(32) by itself, but we can import the math module to achieve this in many different ways."
   ]
  },
  {
   "cell_type": "code",
   "execution_count": null,
   "id": "4e86fbea",
   "metadata": {},
   "outputs": [],
   "source": [
    "# Import the whole library and use a module within it.\n",
    "import math\n",
    "\n",
    "Answer = math.cos(32)\n",
    "print(Answer)\n",
    "\n",
    "# Import just the cos module within math\n",
    "from math import cos\n",
    "\n",
    "Answer = cos(32)\n",
    "print(Answer)\n",
    "\n",
    "# Import every module in math\n",
    "from math import *\n",
    "\n",
    "Answer = cos(32)\n",
    "print(Answer)\n",
    "\n",
    "# Import the whole library and rename its reference\n",
    "import math as m\n",
    "\n",
    "Answer = m.cos(32)\n",
    "print(Answer)"
   ]
  },
  {
   "cell_type": "markdown",
   "id": "1b03d373",
   "metadata": {},
   "source": [
    "##### Note: It is generally advised to import all libraries and modules you want to use in a script as the very first stage of the script"
   ]
  },
  {
   "cell_type": "markdown",
   "id": "25a71fd3",
   "metadata": {},
   "source": [
    "## Installing Libraries\n",
    "\n",
    "Many libraries are installed as a basic part of installing Python, such as math, and so can be called with the usual import method. Others however, require installation to your system before they may be imported into a script.\n",
    "\n",
    "You may Google how to install specific libraries you want to use, but a common method is the command 'pip install'. \n",
    "\n",
    "To install a library, type into the console/terminal of the IDE you are using:\n",
    "\n",
    "    pip install library_you_want\n",
    "\n",
    "Usually this will work, but sometimes the pip install of a library does not match the name of the library. You can find what specifically to type by googling 'pip install library_you_want' and seeing what comes up."
   ]
  },
  {
   "cell_type": "markdown",
   "id": "1df45c7c",
   "metadata": {},
   "source": [
    "## Getting Help\n",
    "\n",
    "As you can tell, within Python there are many ways of skinning a cat. If you get stuck with your script, you can almost be sure someone else has had the same issue but just a different context, and a quick google will show you what to do.\n",
    "\n",
    "- **Forum websites** are very common and there is a massive open-source community of Python users asking and answering questions. A good website to check is Stack Overflow (this will often come as the top result of a Google search)\n",
    "\n",
    "- **ChatGPT/OpenAI** can also be a helpful source in how to write a certain bit of code when given the right prompt. It is also useful for getting started if you find the forum answers confusing or difficult to find.\n",
    "\n",
    "- Finally, ask a **friend** who might just know what you need. And once you know who's knowledgeable, starting a focus group within your company or cohort is a great way to improve everyone!"
   ]
  }
 ],
 "metadata": {
  "kernelspec": {
   "display_name": "Python 3 (ipykernel)",
   "language": "python",
   "name": "python3"
  },
  "language_info": {
   "codemirror_mode": {
    "name": "ipython",
    "version": 3
   },
   "file_extension": ".py",
   "mimetype": "text/x-python",
   "name": "python",
   "nbconvert_exporter": "python",
   "pygments_lexer": "ipython3",
   "version": "3.10.9"
  }
 },
 "nbformat": 4,
 "nbformat_minor": 5
}
