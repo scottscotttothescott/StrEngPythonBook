{
 "cells": [
  {
   "cell_type": "markdown",
   "id": "232e9a00",
   "metadata": {},
   "source": [
    "# Chapter 05: Functions\n",
    "\n",
    "Functions are fantastic if you want to define a process that you need to repeat multiple times and don't want to rewrite the whole process each time, and/or you want to keep that process in an isolated area of your script and just refer to it quickly later, keeping your script neater further down the line.\n",
    "\n",
    "\n",
    "## Basics\n",
    "\n",
    "Functions are written in the following syntax:\n",
    "\n",
    "    def function_name():\n",
    "        value_i_want = code_to_execute\n",
    "        return value_i_want\n",
    "\n",
    "### _Example_\n"
   ]
  },
  {
   "cell_type": "code",
   "execution_count": null,
   "id": "b193fdea",
   "metadata": {},
   "outputs": [],
   "source": [
    "def new_function():\n",
    "    number = 12*3\n",
    "    return number\n",
    "\n",
    "print(new_function())"
   ]
  },
  {
   "cell_type": "markdown",
   "id": "a9ba6d2b",
   "metadata": {},
   "source": [
    "Note the use of ':', '()' and the indentation.\n",
    "\n",
    "Return indicates to Python that the function is ending, and while a value doesn't have to be returned, the line return still needs to be there.\n",
    "\n",
    "Not every function needs to return a value, but if you want an output that you can use later in your code it must be returned. More on this later.\n",
    "\n",
    "If you want to execute a function simply call its name. If it returns a value, you can assign that value to a variable like so:\n",
    "\n",
    "    My_variable = function_name()\n",
    "\n",
    "If the function returns multiple values, such as:\n",
    "\n"
   ]
  },
  {
   "cell_type": "code",
   "execution_count": null,
   "id": "963e16c8",
   "metadata": {},
   "outputs": [],
   "source": [
    "def function_name():\n",
    "    value_1 = 23\n",
    "    value_2 = 42\n",
    "    return value_1, value_2"
   ]
  },
  {
   "cell_type": "markdown",
   "id": "02182b63",
   "metadata": {},
   "source": [
    "I can assign each value to a variable like so:"
   ]
  },
  {
   "cell_type": "code",
   "execution_count": null,
   "id": "f71dca7f",
   "metadata": {},
   "outputs": [],
   "source": [
    "Variable_1, Variable_2 = function_name()\n",
    "print(Variable_1)\n",
    "print(Variable_2)"
   ]
  },
  {
   "cell_type": "markdown",
   "id": "a6d32e2b",
   "metadata": {},
   "source": [
    "It will always assign variables from left to right in the order they are returned.\n",
    "\n",
    "## Passing Arguments\n",
    "\n",
    "The () can be populated with any number of function 'arguments', which are features that you'll need to pass into the function for it to run.\n",
    "\n",
    "(This will make more sense in the example).\n",
    "\n",
    "### _Example_\n",
    "\n",
    "I want to make a function that will calculate the Second Moment of Area of a rectangular beam based on some input arguments."
   ]
  },
  {
   "cell_type": "code",
   "execution_count": null,
   "id": "e53a8f5e",
   "metadata": {},
   "outputs": [],
   "source": [
    "def I_calculator(B, D):\n",
    "    I = B*D**3/12\n",
    "    return I\n",
    "\n",
    "Beam_name = 'Arnold'\n",
    "Width = 200 # mm\n",
    "Depth = 400 #mm\n",
    "\n",
    "Beam_I = I_calculator(Width, Depth)\n",
    "\n",
    "print('{} has a second moment of area equal to {} mm^4'.format(Beam_name, Beam_I))"
   ]
  },
  {
   "cell_type": "markdown",
   "id": "5fd1c768",
   "metadata": {},
   "source": [
    "#### Note: the arguments passed into the function do not match the names of arguments when we defined the function. More on this below.\n",
    "\n",
    "\n",
    "## Global and Local Variables\n",
    "\n",
    "A crucial feature of functions is the idea of global and local variables. \n",
    "\n",
    "The variables we have worked with so far have been global variables, those defined in the main body of our script and accessible at any time. \n",
    "\n",
    "However, functions make use of local variables, which only exist within the body of the function. \n",
    "\n",
    "When you pass arguments into a function (in the above example, Width and Depth), they are reassigned as local variables (B and D). These variables can be manipulated and used inside the function, but if I try to access them in my global script, they won't exist (try printing B or D in the code space above).\n",
    "\n",
    "In order to make a local variable within a function accessible in the main script, it must be returned.\n",
    "\n",
    "Additionally, while a local variable can have the same name as a global variable, it will not alter the global variable. The only way to change the global variable within a function is to use the 'global' keyword.\n",
    "\n",
    "### _Example_\n",
    "\n",
    "Let's try to redefine a variable in our function."
   ]
  },
  {
   "cell_type": "code",
   "execution_count": null,
   "id": "91bab0eb",
   "metadata": {},
   "outputs": [],
   "source": [
    "My_variable = 1\n",
    "\n",
    "def redefine():\n",
    "    My_variable = 3\n",
    "    return My_variable\n",
    "\n",
    "print(redefine())\n",
    "print(My_variable)"
   ]
  },
  {
   "cell_type": "markdown",
   "id": "a512550f",
   "metadata": {},
   "source": [
    "As you can see, the function locally uses a variable of the same name (My_variable), but when we try and access the global variable, it is unchanged.\n",
    "\n",
    "Let's try again but with the 'global' keyword."
   ]
  },
  {
   "cell_type": "code",
   "execution_count": null,
   "id": "202c7cfd",
   "metadata": {},
   "outputs": [],
   "source": [
    "My_variable = 1\n",
    "\n",
    "def redefine():\n",
    "    global My_variable\n",
    "    My_variable = 3\n",
    "    return My_variable\n",
    "    \n",
    "print(redefine())\n",
    "print(My_variable)"
   ]
  },
  {
   "cell_type": "markdown",
   "id": "49444bd3",
   "metadata": {},
   "source": [
    "As you can see, we have now changed the global variable within the function.\n",
    "\n",
    "**Note: You may use global variables inside your functions, you just aren't able to alter them.**\n",
    "\n",
    "## Your Turn\n",
    "\n",
    "You have a set of beams you want to analyse, with attributes given in the dictionary below. \n",
    "\n",
    "Write a function that will calculate the deflection of each beam (using 5wL^4/384EI) and check if the beam passes (using Span/250). \n",
    "\n",
    "Then add the result as a new key/value pair to the beams dictionary, and print the results. (Hint: using a for loop may save some time)."
   ]
  },
  {
   "cell_type": "code",
   "execution_count": null,
   "id": "6877454f",
   "metadata": {},
   "outputs": [],
   "source": [
    "beams = {'B1' : {'Name' : 'Arnold',\n",
    "                 'Span' : 12,\n",
    "                 'Loading' : 43, # kN\n",
    "                 'Rest of deflection equation' : 3}, # mm/kN\n",
    "        'B2' : {'Name' : 'Sylvester',\n",
    "                 'Span' : 3,\n",
    "                 'Loading' : 13,\n",
    "                 'Rest of deflection equation' : 5},\n",
    "        'B3' : {'Name' : 'Jason',\n",
    "                 'Span' : 5,\n",
    "                 'Loading' : 6,\n",
    "                 'Rest of deflection equation' : 7},\n",
    "        'B4' : {'Name' : 'Robert',\n",
    "                 'Span' : 12,\n",
    "                 'Loading' : 1,\n",
    "                 'Rest of deflection equation' : 3000},\n",
    "        'B5' : {'Name' : 'Curtis',\n",
    "                 'Span' : 50,\n",
    "                 'Loading' : 2,\n",
    "                 'Rest of deflection equation' : 1},\n",
    "}\n",
    "\n",
    "# Type your code below\n",
    "\n"
   ]
  }
 ],
 "metadata": {
  "kernelspec": {
   "display_name": "Python 3 (ipykernel)",
   "language": "python",
   "name": "python3"
  },
  "language_info": {
   "codemirror_mode": {
    "name": "ipython",
    "version": 3
   },
   "file_extension": ".py",
   "mimetype": "text/x-python",
   "name": "python",
   "nbconvert_exporter": "python",
   "pygments_lexer": "ipython3",
   "version": "3.10.9"
  }
 },
 "nbformat": 4,
 "nbformat_minor": 5
}
