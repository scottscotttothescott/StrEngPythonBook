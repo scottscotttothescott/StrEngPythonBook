{
 "cells": [
  {
   "cell_type": "markdown",
   "id": "9e9e3901",
   "metadata": {},
   "source": [
    "# Chapter 8: Next Steps\n",
    "\n",
    "So now that you've got the basics, what's next? The simple answer is practice! \n",
    "Reflect on what you've learnt over the last few chapters and keep your eyes open to where it might be helpful in your projects.\n",
    "\n",
    "There's more to Python than any one person or resource can possibly teach, but fortunately there's a great many people and places out there sharing their knowledge! Here are some of the most useful I've found so far.\n",
    "\n",
    "Recommended websites\n",
    "\n",
    "    • UDEMY\n",
    "\n",
    "    • LinkedIn Learning\n",
    "\n",
    "    • Stack Overflow\n",
    "\t\t○ For specific questions or methods you're not sure about\n",
    "\n",
    "    • Python documentation\n",
    "        ○ Often modules in Python have their own set of documentation that explains in detail how the module works\n",
    "        and can be manipulated for your gain.\n",
    "\n",
    "    • W3 schools\n",
    "        ○ Great for short descriptions and examples of various programming languages and tools within them.\n",
    "\n",
    "\n",
    "## Collaboration with Git Hub\n",
    "\n",
    "GitHub is a website that provides a framework for collaborative coding to take place that includes features for reviewing, commenting, and merging changes to coded tools. As developer teams expand collaborating using Git, the programming language GitHub is based upon, can be key to ensuring tool quality and version control.\n",
    "\n",
    "Info on what Git is and how to use it in your Python development workflow can be found from the 'Using Git and GitHub' document.\n",
    "\n",
    "A website for learning Git commands (for another Git-integrated website, BitBucket, but the commands remain the same):\n",
    "\n",
    "  https://www.atlassian.com/git/tutorials/learn-git-with-bitbucket-cloud \n",
    "\n",
    "\n",
    "An introductory video to GitHub:\n",
    "\n",
    "  https://www.youtube.com/watch?v=pBy1zgt0XPc\n",
    "\n",
    "A tutorial on how to use GitHub in your browser:\n",
    "\n",
    "  https://docs.github.com/en/get-started/quickstart/hello-world\n",
    "\n",
    "\n",
    "A tutorial on how collaboration within GitHub works:\n",
    "\n",
    "  https://code.tutsplus.com/team-collaboration-with-github--net-29876a\n",
    "\n",
    "\n",
    "\n"
   ]
  }
 ],
 "metadata": {
  "kernelspec": {
   "display_name": "Python 3 (ipykernel)",
   "language": "python",
   "name": "python3"
  },
  "language_info": {
   "codemirror_mode": {
    "name": "ipython",
    "version": 3
   },
   "file_extension": ".py",
   "mimetype": "text/x-python",
   "name": "python",
   "nbconvert_exporter": "python",
   "pygments_lexer": "ipython3",
   "version": "3.10.9"
  }
 },
 "nbformat": 4,
 "nbformat_minor": 5
}
