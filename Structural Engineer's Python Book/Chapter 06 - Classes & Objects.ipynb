{
 "cells": [
  {
   "cell_type": "markdown",
   "id": "514c4018",
   "metadata": {},
   "source": [
    "# Chapter 06: Classes and Objects\n",
    "\n",
    "Classes and Object-Oriented Programming are a way of organising scripts that is very beneficial for constructing complex tools in a simpler way. \n",
    "\n",
    "Python itself is an object-oriented programming language. Almost everything in Python is object based.\n",
    "\n",
    "This is the style we have adopted as the approach to developing Python Tools, for its flexibility, ease of understanding, and overall power in making adaptable scripts.\n",
    "\n",
    "Key terms: \n",
    "+ Class  : Object constructor/template/blueprint for making an object.\n",
    "+ Object : Unique instance of a data structure that has attributes and methods.\n",
    "\n",
    "A basic class example is below: \n"
   ]
  },
  {
   "cell_type": "code",
   "execution_count": null,
   "id": "681a2be1",
   "metadata": {},
   "outputs": [],
   "source": [
    "# Define the class like a function\n",
    "class my_class:\n",
    "    x = 5"
   ]
  },
  {
   "cell_type": "markdown",
   "id": "b5488c2a",
   "metadata": {},
   "source": [
    "Now, we can use our basic class to create an object:"
   ]
  },
  {
   "cell_type": "code",
   "execution_count": null,
   "id": "adbbe497",
   "metadata": {},
   "outputs": [],
   "source": [
    "# Create an object by referring back to the class definition\n",
    "my_object = my_class()\n",
    "\n",
    "# Access the object attribute using a '.'\n",
    "print(my_object.x)"
   ]
  },
  {
   "cell_type": "markdown",
   "id": "a357ee46",
   "metadata": {},
   "source": [
    "So to recap:\n",
    "\n",
    "## Objects\n",
    "\n",
    "Objects are a data instance that contain:\n",
    "\n",
    "Attributes - Data held in a similar way to a variable. Attributes can be accessed in the following way:\n",
    "\n",
    "    My_object.attribute\n",
    "    \n",
    "E.g. if a car was an object, its colour could be retrieved by car.colour.\n",
    "\n",
    "Methods - Functions associated with an object that modify it or do a task in a specific way.\n",
    "\n",
    "The attributes and methods that an object holds is defined by the class that it is in.\n",
    "\n",
    "## Classes\n",
    "\n",
    "A class is the template that sets out what an object's attributes and methods are.\n",
    "\n",
    "Classes are very useful for making code tidy, interpretable, and quick to adapt.\n",
    "\n",
    "## The **__ init __()** Function\n",
    "\n",
    "Classes in their simplest form (as per the example above) are not that helpful to us. \n",
    "\n",
    "The '__init__()' Function allows us to send arguments into the object as we create it. Best shown by example: \n",
    "\n"
   ]
  },
  {
   "cell_type": "code",
   "execution_count": null,
   "id": "a14a705f",
   "metadata": {},
   "outputs": [],
   "source": [
    "# define class\n",
    "class beam:\n",
    "    def __init__(self, d,b):\n",
    "        self.b = b # Note: The variable 'self' refers to the object created by the class. \n",
    "        self.d = d #       We don't need to use 'self', we could use 'potato'. But best practice is to use 'self'\n",
    "\n",
    "# create object\n",
    "beam_1 = beam(400, 100)\n",
    "\n",
    "print(beam_1.d)"
   ]
  },
  {
   "cell_type": "markdown",
   "id": "4e8d7bcd",
   "metadata": {},
   "source": [
    "In the example above, we've used the __ init __ function to collect arguments and assign them as properties when an object is created.\n",
    "\n",
    "At the same time, our init function could be assigning other properties or using b + d to calculate other things automatically... The power of objects becomes apparent. \n",
    "\n",
    "## Engineering Context\n",
    "\n",
    "Imagine you have a set of beams, and each has different geometries. In the previous ways we've learnt, you would need to create variables or maybe a dataset that defines the geometry of each individual beam, which can be a bit of a laborious process. However, each beam has common attributes, just different values. For example, every beam will have a depth, and every beam will have a width. Using classes, we can make each beam an object of an overall Beams class, and this will assign each beam the attributes of depth and width.\n",
    "\n",
    "See the example below for how this is done. Don't worry if there's syntax that's confusing, it will be explained later, this is just to give an idea of how Classes can be used.\n",
    "\n",
    "### _Example_"
   ]
  },
  {
   "cell_type": "code",
   "execution_count": null,
   "id": "a10bb7d0",
   "metadata": {},
   "outputs": [],
   "source": [
    "class Beam():\n",
    "    \n",
    "    def __init__(self, width, depth):\n",
    "        self.b = width\n",
    "        self.d = depth\n",
    "\n",
    "B1 = Beam(200, 300)\n",
    "B2 = Beam(150, 300)\n",
    "B3 = Beam(250, 450)\n",
    "\n",
    "print(B1.b)\n",
    "print(B2.d)\n",
    "\n",
    "B3.d = 800\n",
    "print(B3.d)"
   ]
  },
  {
   "cell_type": "markdown",
   "id": "52efe6b6",
   "metadata": {},
   "source": [
    "Now, let's go through that line by line"
   ]
  },
  {
   "cell_type": "code",
   "execution_count": null,
   "id": "7c7fddd3",
   "metadata": {},
   "outputs": [],
   "source": [
    "class Beam():"
   ]
  },
  {
   "cell_type": "markdown",
   "id": "3058a298",
   "metadata": {},
   "source": [
    "This tells Python to create a class named Beam. Everything indented after ':' will be contained within this class. It may be defined without the '()', but they come in handy later."
   ]
  },
  {
   "cell_type": "code",
   "execution_count": null,
   "id": "3efcfb89",
   "metadata": {},
   "outputs": [],
   "source": [
    "    def __init__(self, width, depth):"
   ]
  },
  {
   "cell_type": "markdown",
   "id": "2c5f1331",
   "metadata": {},
   "source": [
    "The __ init __ function is called a constructor, and is a standard function within Python. It tells Python to initialise the class and sets an object's attributes every time an object of a class is created. Similar to a normal function, arguments can be passed into it, in this case width and depth. \n",
    "\n",
    "#### Note: Like normal functions, arguments aren't always necessary, however in this case the 'self' term must always be used (it doesn't have to be self, but this is common convention). The 'self' term is effectively a substitute for whatever you call your objects, in this case B1-3."
   ]
  },
  {
   "cell_type": "code",
   "execution_count": null,
   "id": "f10592a2",
   "metadata": {},
   "outputs": [],
   "source": [
    "self.b = width\n",
    "self.d = depth"
   ]
  },
  {
   "cell_type": "markdown",
   "id": "3c689d1f",
   "metadata": {},
   "source": [
    "These lines set the object's attributes 'b' and 'd'. In this case it uses the arguments passed into the class, but attributes can be set in the same way as any variable, using arguments, static data, functions, calculations etc etc.  What setting attributes does is that we may now call an object's attributes using object_name.attribute. \n",
    "\n",
    "#### Note: Unlike normal functions, these attributes don't need to be returned to be used in the global script."
   ]
  },
  {
   "cell_type": "code",
   "execution_count": null,
   "id": "bc04cdf3",
   "metadata": {},
   "outputs": [],
   "source": [
    "B1 = Beam(200, 300)\n",
    "B2 = Beam(150, 300)\n",
    "B3 = Beam(250, 450)"
   ]
  },
  {
   "cell_type": "markdown",
   "id": "384adcde",
   "metadata": {},
   "source": [
    "In these lines we are creating our objects. We set our objects as we would any variable, and to make it a part of a class we just type object = class(). \n",
    "\n",
    "In our case, the __ init __ function of our Beam class requires arguments and we pass them in, so B1 has a width of 200, and a depth of 300.\n",
    "\n",
    "This example is very simple and it may have been easier to just write our beam values as individual variables, but imagine you have 20 beams instead, or you need to set 30 attributes for each beam, or the attributes are set using other variables and/or functions created earlier in the script. Classes and objects are a far cleaner and more efficient method for solving these kind of problems."
   ]
  },
  {
   "cell_type": "code",
   "execution_count": null,
   "id": "ea599d57",
   "metadata": {},
   "outputs": [],
   "source": [
    "print(B1.b)\n",
    "print(B2.d)"
   ]
  },
  {
   "cell_type": "markdown",
   "id": "1488faff",
   "metadata": {},
   "source": [
    "As stated earlier, we can call our attributes using object_name.attribute. When called, the attribute will behave like any variable."
   ]
  },
  {
   "cell_type": "code",
   "execution_count": null,
   "id": "4a3d64c2",
   "metadata": {},
   "outputs": [],
   "source": [
    "B3.d = 800\n",
    "print(B3.d)"
   ]
  },
  {
   "cell_type": "markdown",
   "id": "e4efec62",
   "metadata": {},
   "source": [
    "Once an object is created, it's attributes can be edited individually however we like, and this will change the attribute for just that object, not altering the parent class or any other objects.\n",
    "\n",
    "## Default Values\n",
    "\n",
    "You may have seen that in the example above B1 and B2 had the same width and that if there were many more beams with attributes that are the same value having to pass the arguments into each beam object is surely not the most efficient way of doing it? You would be right.\n",
    "\n",
    "To create an object, all the arguments have to be passed, otherwise it will break, however, we can set default values when we create the class, and in this case we wouldn't need to pass the argument unless it will differ from the default.\n",
    "\n",
    "Default values are set by simply equating the argument to a value when defining the __ init __ function in the class.\n",
    "\n",
    "### _Example_"
   ]
  },
  {
   "cell_type": "code",
   "execution_count": null,
   "id": "d7ef42d3",
   "metadata": {},
   "outputs": [],
   "source": [
    "class Beam():\n",
    "\n",
    "    def __init__(self, width, depth = 300):\n",
    "        self.b = width\n",
    "        self.d = depth\n",
    "\n",
    "B1 = Beam(200)\n",
    "B2 = Beam(150)\n",
    "B3 = Beam(250, 450)\n",
    "\n",
    "print(B1.b)\n",
    "print(B3.d)"
   ]
  },
  {
   "cell_type": "markdown",
   "id": "bac74438",
   "metadata": {},
   "source": [
    "## Class Methods\n",
    "\n",
    "Within classes you may also define methods. There are some tweaks, but for all intents and purposes, methods are functions and operate in the same way. When a method is set within a class however, the 'self' term must be included in the method arguments. \n",
    "\n",
    "Class methods may only be called on objects that belong to that class.\n",
    "\n",
    "Using functions outside of the class will operate the same way when called, but if a function is only ever going to be applicable to a certain class in your code, it can be neater to contain it within the class as a class method. For example, if you are creating a Timber class meant to store timber material properties, no other material will need a method for calculating Kmod, so you may wish to store the Kmod function within the Timber class.\n",
    "\n",
    "### _Example_"
   ]
  },
  {
   "cell_type": "code",
   "execution_count": null,
   "id": "ad6f6b16",
   "metadata": {},
   "outputs": [],
   "source": [
    "class Beam():\n",
    "\n",
    "    def __init__(self, width, depth = 300):\n",
    "        self.b = width\n",
    "        self.d = depth\n",
    "\n",
    "    def I_calc(self):\n",
    "        I = self.b*self.d**3/12\n",
    "        return I\n",
    "\n",
    "B1 = Beam(100)\n",
    "B1.I = B1.I_calc()\n",
    "print(B1.I)"
   ]
  },
  {
   "cell_type": "markdown",
   "id": "a6035519",
   "metadata": {},
   "source": [
    "This wasn't described in Chapter 6, but functions can take objects as arguments. \n",
    "\n",
    "If an object is used as an argument, all the attributes of that object may be used within the function with the syntax 'object_argument.attribute'.\n",
    "\n",
    "#### Note: If a new attribute is set during a class method, that attribute does not need to be returned like a normal function. It will be set globally for any object passed through the class method.\n",
    "\n",
    "### _Example_"
   ]
  },
  {
   "cell_type": "code",
   "execution_count": null,
   "id": "6927cc5c",
   "metadata": {},
   "outputs": [],
   "source": [
    "class Beam():\n",
    "\n",
    "    def __init__(self, width, depth = 300):\n",
    "        self.b = width\n",
    "        self.d = depth\n",
    "\n",
    "    def I_calc(self):\n",
    "        self.I = self.b*self.d**3/12\n",
    "\n",
    "B1 = Beam(100)\n",
    "B1.I_calc()\n",
    "print(B1.I)"
   ]
  },
  {
   "cell_type": "markdown",
   "id": "c54045fc",
   "metadata": {},
   "source": [
    "Notice that I just need to call the function and the attribute will be set. This can make your codes far neater, without so many return and 'equal to' statements.\n",
    "\n",
    "## Inheritance\n",
    "\n",
    "As nice as it would be, often we cannot contain all attributes within one class definition, because it wouldn't make sense. \n",
    "\n",
    "Imagine you're defining beams. They may all the same basic geometries, but some may be steel and some may be timber. It wouldn't be possible to define every attribute of the beam within one overarching Beam class, as it would have differing attributes depending on it's material. This is where class inheritance comes into play.\n",
    "\n",
    "Once again, we'll take a look at an example and then run through it line by line.\n",
    "\n",
    "### _Example_"
   ]
  },
  {
   "cell_type": "code",
   "execution_count": null,
   "id": "14f3f742",
   "metadata": {},
   "outputs": [],
   "source": [
    "class Geometry():\n",
    "\n",
    "    def __init__(self, width, depth):\n",
    "        self.b = width # mm\n",
    "        self.d = depth # mm\n",
    "        self.A = width*depth\n",
    "        self.I = width*depth**3/12\n",
    "\n",
    "class Timber(Geometry):\n",
    "\n",
    "    def __init__(self, width, depth):\n",
    "        super().__init__(width, depth)\n",
    "        self.E = 10\n",
    "\n",
    "class Steel(Geometry):\n",
    "    \n",
    "    def __init__(self, width, depth):\n",
    "        super().__init__(width, depth)\n",
    "        self.E = 355\n",
    "\n",
    "B1 = Timber(200, 300)\n",
    "B2 = Steel(300, 100)\n",
    "\n",
    "print('Beam 1 has width {}, depth {}, area {}, I {} and modulus {}'.format(B1.b, B1.d, B1.A, B1.I, B1.E))\n",
    "print('Beam 2 has width {}, depth {}, area {}, I {} and modulus {}'.format(B2.b, B2.d, B2.A, B2.I, B1.E))"
   ]
  },
  {
   "cell_type": "markdown",
   "id": "b5835893",
   "metadata": {},
   "source": [
    "So, let's break it down."
   ]
  },
  {
   "cell_type": "code",
   "execution_count": null,
   "id": "bc15f572",
   "metadata": {},
   "outputs": [],
   "source": [
    "class Geometry():\n",
    "\n",
    "    def __init__(self, width, depth):\n",
    "        self.b = width # mm\n",
    "        self.d = depth # mm\n",
    "        self.A = width*depth\n",
    "        self.I = width*depth**3/12"
   ]
  },
  {
   "cell_type": "markdown",
   "id": "ce579866",
   "metadata": {},
   "source": [
    "This sets up our geometry class as usual, with required arguments and within the class it can calculate and set other attributes."
   ]
  },
  {
   "cell_type": "code",
   "execution_count": null,
   "id": "1407c9c4",
   "metadata": {},
   "outputs": [],
   "source": [
    "class Timber(Geometry):\n",
    "\n",
    "    def __init__(self, width, depth):"
   ]
  },
  {
   "cell_type": "markdown",
   "id": "25ced5c0",
   "metadata": {},
   "source": [
    "This line sets up our material class, Timber. Notice that while previously we have left the '()' following our class name blank, here we have filled in Geometry. This tells Python that Geometry is the 'parent' class of Timber, therefore Python will know later where we want to inherit attributes from.\n",
    "\n",
    "Timber still requires arguments of width and depth when we create our beam objects, but you'll see below that we don't tell our Timber class specifically what to do with these arguments."
   ]
  },
  {
   "cell_type": "code",
   "execution_count": null,
   "id": "f40a92a0",
   "metadata": {},
   "outputs": [],
   "source": [
    "super().__init__(width, depth)"
   ]
  },
  {
   "cell_type": "markdown",
   "id": "3211b104",
   "metadata": {},
   "source": [
    "This is the key step for using inheritance. The super().__ init __ (…) function tells Python to initialise the parent class (Geometry) and inherit its attributes. \n",
    "\n",
    "It operates as though the __ init __ function of Geometry has been run, setting b, d, A, and I.\n",
    "\n",
    "Notice our parent class needs arguments to be passed through it, so we take those arguments given to Timber (width and depth), and run it through Geometry. This will set any object of the Timber class up with the attributes of Geometry automatically, we don't need to type out self.b = , self.d = etc etc."
   ]
  },
  {
   "cell_type": "code",
   "execution_count": null,
   "id": "f21d22fa",
   "metadata": {},
   "outputs": [],
   "source": [
    "self.E = 10"
   ]
  },
  {
   "cell_type": "markdown",
   "id": "0ba90bdc",
   "metadata": {},
   "source": [
    "This is the only new attribute we are introducing when we define the material."
   ]
  },
  {
   "cell_type": "code",
   "execution_count": null,
   "id": "ffb0550c",
   "metadata": {},
   "outputs": [],
   "source": [
    "class Steel(Geometry):\n",
    "\n",
    "    def __init__(self, width, depth):\n",
    "        super().__init__(width, depth)\n",
    "        self.E = 355"
   ]
  },
  {
   "cell_type": "markdown",
   "id": "24ea9994",
   "metadata": {},
   "source": [
    "This repeats the same steps, but for another material class with a different modulus, this time Steel."
   ]
  },
  {
   "cell_type": "code",
   "execution_count": null,
   "id": "5b4e54c8",
   "metadata": {},
   "outputs": [],
   "source": [
    "B1 = Timber(200, 300)\n",
    "B2 = Steel(300, 100)\n",
    "\n",
    "print('Beam 1 has width {}, depth {}, area {}, I {} and modulus {}'.format(B1.b, B1.d, B1.A, B1.I, B1.E))\n",
    "print('Beam 2 has width {}, depth {}, area {}, I {} and modulus {}'.format(B2.b, B2.d, B2.A, B2.I, B1.E))"
   ]
  },
  {
   "cell_type": "markdown",
   "id": "93d6744a",
   "metadata": {},
   "source": [
    "Finally we create our beams, passing in our required inputs of width and depth, and our class settings do the rest.\n",
    "\n",
    "As you can see, when we have many common attributes between classes, inheriting from a parent class can be a far more efficient way of initialising our classes, rather than having to define those shared attributes individually in every class.\n",
    "\n",
    "\n",
    "\n",
    "## Your Turn\n",
    "\n",
    "An architect has given you 7 beams to assess in a house. They are to be S355 Steel, and you are only concerned with deflection (calculate using 5wL^4/(384EI), and compare to Span/250). The loading on every beam is 25 kN/m.\n",
    "\n",
    "Create each of these 7 beams as objects, where they are Beam objects that inherit their properties from a Material class. Using a class method within Beam, calculate the deflection and assign an attribute of deflection and whether the beam passes. \n",
    "\n",
    "The architect is being very strict on structural depth, but the beams can be as wide as possible, therefore should the beam fail, iterate with increasing widths until it passes.\n",
    "\n",
    "Finally, for each beam, print it's depth, width, loading, deflection, and whether it passes or fails."
   ]
  },
  {
   "cell_type": "code",
   "execution_count": null,
   "id": "6d185a85",
   "metadata": {},
   "outputs": [],
   "source": [
    "# Type your code below\n",
    "\n"
   ]
  },
  {
   "cell_type": "markdown",
   "id": "05a5d16e",
   "metadata": {},
   "source": [
    "Great work!\n",
    "\n",
    "The architect is hugely impressed with your results, but has changed the scheme and now your 4th beam is to be made of timber. \n",
    "\n",
    "Without creating or changing the classes, modify the 4th beam's material attributes and recalculate it's deflection. Print your new results."
   ]
  },
  {
   "cell_type": "code",
   "execution_count": null,
   "id": "1e178073",
   "metadata": {},
   "outputs": [],
   "source": [
    "# Type your code below\n",
    "\n"
   ]
  }
 ],
 "metadata": {
  "kernelspec": {
   "display_name": "Python 3 (ipykernel)",
   "language": "python",
   "name": "python3"
  },
  "language_info": {
   "codemirror_mode": {
    "name": "ipython",
    "version": 3
   },
   "file_extension": ".py",
   "mimetype": "text/x-python",
   "name": "python",
   "nbconvert_exporter": "python",
   "pygments_lexer": "ipython3",
   "version": "3.10.9"
  }
 },
 "nbformat": 4,
 "nbformat_minor": 5
}
