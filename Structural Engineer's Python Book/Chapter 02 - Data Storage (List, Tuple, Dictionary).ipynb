{
 "cells": [
  {
   "cell_type": "markdown",
   "id": "6d263ef1",
   "metadata": {},
   "source": [
    "# Chapter 02: Data Storage (List, Tuple, Dictionary)\n",
    "\n",
    "There are many ways of storing and accessing data within Python. This chapter will cover the 3 most common ways: Lists, Tuples, and Dictionaries."
   ]
  },
  {
   "cell_type": "markdown",
   "id": "2436ef06",
   "metadata": {},
   "source": [
    "## Lists\n",
    "\n",
    "A list is a list (creative I know…) of values separated by commas. It is denoted by '[ ]', and can hold any type of data.\n",
    "\n",
    "Lists can be assigned to variables, can be manipulated in a number of ways.\n",
    "\n",
    "They are useful for storing data when you know (or can imply quickly) what the values mean, or when using conditionals and loops (more on those in Chapters 4 and 5).\n",
    "\n",
    "An item's position in a list is known as its 'index'. The first item of a list has an index of [0], the second is [1], and so on.\n"
   ]
  },
  {
   "cell_type": "markdown",
   "id": "93ba0d5c",
   "metadata": {},
   "source": [
    "### _Example_"
   ]
  },
  {
   "cell_type": "code",
   "execution_count": null,
   "id": "6e4e2b42",
   "metadata": {},
   "outputs": [],
   "source": [
    "Timber_grades_available = ['C16', 'C24', 'C28']"
   ]
  },
  {
   "cell_type": "markdown",
   "id": "d325dab9",
   "metadata": {},
   "source": [
    "You can add and remove items from lists using Python's built-in functions '.append()' and '.remove()'"
   ]
  },
  {
   "cell_type": "code",
   "execution_count": 1,
   "id": "ba4c8667",
   "metadata": {},
   "outputs": [
    {
     "name": "stdout",
     "output_type": "stream",
     "text": [
      "['C16', 'C24', 'C28', 'C32']\n"
     ]
    }
   ],
   "source": [
    "Timber_grades_available = ['C16', 'C24', 'C28']\n",
    "Timber_grades_available.append('C32')\n",
    "print(Timber_grades_available)"
   ]
  },
  {
   "cell_type": "markdown",
   "id": "bca6d33e",
   "metadata": {},
   "source": [
    "## Tuples\n",
    "\n",
    "A tuple is similar to a list, but they are **immutable** - Once created, items in the tuple cannot be changed.\n",
    "\n",
    "Tuples are comma separated, and are denoted by '( )'.\n",
    "\n",
    "Items within tuples are also ordered by index."
   ]
  },
  {
   "cell_type": "markdown",
   "id": "78720ce7",
   "metadata": {},
   "source": [
    "### _Example_"
   ]
  },
  {
   "cell_type": "code",
   "execution_count": null,
   "id": "3a599963",
   "metadata": {},
   "outputs": [],
   "source": [
    "Timber_grades_available = ('C24','C28','C32')"
   ]
  },
  {
   "cell_type": "markdown",
   "id": "f3bd9aa6",
   "metadata": {},
   "source": [
    "## Dictionaries\n",
    "\n",
    "Dictionaries are more advanced forms of data storage that provide more structure to the data. \n",
    "\n",
    "\n",
    "A dictionary comprises 'key : value' pairs, \n",
    "- 'key' : a string used to label the data value.\n",
    "- 'value' : the data to be stored.\n",
    "\n",
    "They're useful for storing properties of a physical thing. E.g. a dictionary describing a person may have keys of 'age', 'address', 'height', etc. \n",
    "\n",
    "Alternatively we could use a list to store this information, but the keys make it clear exactly what is stored, and dictionaries allow subsetting within one dataset (more on this below). \n",
    "\n",
    "The 'key' : value pairs are separated by commas, and a dictionary is defined using '{ }' as below,"
   ]
  },
  {
   "cell_type": "markdown",
   "id": "f0b30ba7",
   "metadata": {},
   "source": [
    "### _Example_"
   ]
  },
  {
   "cell_type": "code",
   "execution_count": null,
   "id": "ad0d5e3e",
   "metadata": {},
   "outputs": [],
   "source": [
    "My_beam = {'Grade' : 'C24', 'f_c0k' : 24}\n",
    "\n",
    "print(My_beam['Grade'])"
   ]
  },
  {
   "cell_type": "markdown",
   "id": "e5432f9b",
   "metadata": {},
   "source": [
    "As the example above shows, dictionary items are accessed using the 'key' within square brackets. E.g. \n",
    "\n",
    "    grade = My_beam['Grade']\n",
    "\n",
    "For further sub-setting, dictionaries can be made up of several sub-dictionaries and/or lists within each key."
   ]
  },
  {
   "cell_type": "code",
   "execution_count": null,
   "id": "db35cedb",
   "metadata": {},
   "outputs": [],
   "source": [
    "My_beams = {'Beam_1' : {'Grade' : 'C24', 'f_c0k' : 24},\n",
    "            'Beam_2' : {'Grade' : 'C16', 'f_c0k' : 16}}\n",
    "\n",
    "print(My_beams['Beam_2'])\n",
    "print(My_beams['Beam_2']['Grade'])"
   ]
  },
  {
   "cell_type": "markdown",
   "id": "eeefb90e",
   "metadata": {},
   "source": [
    "#### Note: Dictionaries can be spread across multiple lines for readability, just make sure the indentation matches and each line ends with a comma."
   ]
  },
  {
   "cell_type": "markdown",
   "id": "2668a8f8",
   "metadata": {},
   "source": [
    "Keys can be added to dictionaries using the following syntax:\n",
    "\n",
    "    My_dict['new_key'] = value"
   ]
  },
  {
   "cell_type": "code",
   "execution_count": null,
   "id": "aad4ee68",
   "metadata": {},
   "outputs": [],
   "source": [
    "My_beam = {'Grade' : 'C24', 'f_c0k' : 24}\n",
    "\n",
    "My_beam['Length'] = 30\n",
    "\n",
    "print(My_beam)"
   ]
  },
  {
   "cell_type": "markdown",
   "id": "e6db9ba3",
   "metadata": {},
   "source": [
    "## Your Turn\n",
    "\n",
    "Add a new beam to the My_beams dictionary with a grade and strength, and print its characteristic strength."
   ]
  },
  {
   "cell_type": "code",
   "execution_count": null,
   "id": "8fbcc745",
   "metadata": {},
   "outputs": [],
   "source": [
    "# Type your code below\n"
   ]
  },
  {
   "cell_type": "markdown",
   "id": "6679dfbc",
   "metadata": {},
   "source": [
    "\n",
    "\n",
    "## Accessing and Extracting Data (Indexes)\n",
    "\n",
    "Data stored within lists, tuples, and dictionaries can be accessed (and in the case of lists and dictionaries, edited) individually using indexes.\n",
    "\n",
    "An index is simply Python's way of describing an item's position in the dataset. The individual value in the dataset can be called using the following syntax:\n",
    "\n",
    "    Dataset_name[0]\n",
    "\n",
    "This will return the item in the dataset with the index 0.\n",
    "\n",
    "#### Note: Python indexes values starting from 0. The first item in a list/tuple/dictionary is the 0th item.\n",
    "\n",
    "## _Example_"
   ]
  },
  {
   "cell_type": "code",
   "execution_count": null,
   "id": "0fd902e3",
   "metadata": {},
   "outputs": [],
   "source": [
    "Timber_grades = ('C24','C28','C32')\n",
    "print(Timber_grades[1])"
   ]
  },
  {
   "cell_type": "markdown",
   "id": "aa115eb0",
   "metadata": {},
   "source": [
    "We can access the dataset in reverse using negatives. The last item in a list will be my_list[-1]."
   ]
  },
  {
   "cell_type": "code",
   "execution_count": null,
   "id": "2925f9c7",
   "metadata": {},
   "outputs": [],
   "source": [
    "print(Timber_grades[-1])"
   ]
  },
  {
   "cell_type": "markdown",
   "id": "ddb63bf6",
   "metadata": {},
   "source": [
    "In dictionaries with sub-dictionaries, the index refers to the key, and each sub-dictionary has it's own index."
   ]
  },
  {
   "cell_type": "code",
   "execution_count": null,
   "id": "8d00b7b3",
   "metadata": {},
   "outputs": [],
   "source": [
    "My_beams = {'Beam_1' : {'Grade' : 'C24', 'f_c0k' : 24},\n",
    "\t\t    'Beam_2' : {'Grade' : 'C16', 'f_c0k' : 16},\n",
    "\t\t    'Beam_3' : {'Grade' : 'C28', 'f_c0k' : 28}}\n",
    "print(My_beams[2])\n",
    "print(My_beams['Beam_3'][1])"
   ]
  },
  {
   "cell_type": "markdown",
   "id": "3f1d89af",
   "metadata": {},
   "source": [
    "Using the indexes we can change individual values with the syntax:\n",
    "\n",
    "    Data_set[i] = new_value"
   ]
  },
  {
   "cell_type": "markdown",
   "id": "aad2b4d7",
   "metadata": {},
   "source": [
    "## Your Turn\n",
    "\n",
    "The dictionary below represents the results of a deflection check of beams in your house. Beam_2 has rotted, and is now failing. Edit the dictionary to show this, print the full results, and print a formatted string that shows the result of Beam_2's deflection check."
   ]
  },
  {
   "cell_type": "code",
   "execution_count": null,
   "id": "87f1926e",
   "metadata": {},
   "outputs": [],
   "source": [
    "beam_checks = {'Beam 1' : 'Pass',\n",
    "               'Beam 2' : 'Pass',\n",
    "               'Beam 3' : 'Pass'\n",
    "              }\n",
    "\n",
    "# Type your code below\n",
    "\n"
   ]
  }
 ],
 "metadata": {
  "kernelspec": {
   "display_name": "Python 3 (ipykernel)",
   "language": "python",
   "name": "python3"
  },
  "language_info": {
   "codemirror_mode": {
    "name": "ipython",
    "version": 3
   },
   "file_extension": ".py",
   "mimetype": "text/x-python",
   "name": "python",
   "nbconvert_exporter": "python",
   "pygments_lexer": "ipython3",
   "version": "3.10.9"
  }
 },
 "nbformat": 4,
 "nbformat_minor": 5
}
