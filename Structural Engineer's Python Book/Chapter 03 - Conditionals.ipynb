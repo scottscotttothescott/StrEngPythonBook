{
 "cells": [
  {
   "cell_type": "markdown",
   "id": "5c9f4c4e",
   "metadata": {},
   "source": [
    "# Chapter 03: Conditionals\n",
    "\n",
    "Conditionals are a very useful function in Python, particularly for tasks such as comparing items and checking results.\n",
    "\n",
    "The conditional statements within Python are If, and Else, and Elif.\n",
    "\n",
    "## Conditional Operators\n",
    "\n",
    "Conditional statements in Python compare values to one another. They perform this check using what is called a comparative operator.\n",
    "\n",
    "The comparative operators that Python accepts in conditional statements are as follows:\n",
    "\n",
    "    ==                       - Equals\n",
    "    \n",
    "    !=                       - Not equal to\n",
    "    \n",
    "    >                        - Greater than\n",
    "    \n",
    "    <                        - Less than\n",
    "    \n",
    "    >=                       - Greater than or equal to\n",
    "    \n",
    "    <=                       - Less than or equal to\n",
    "    \n",
    "For a more complete description of conditional operators and booleans (in essence True or False statements), see the link below:\n",
    "\n",
    "https://www.pythonmorsels.com/conditional-operators/#:~:text=Python's%20conditional%20operators%20return%20Booleans,if%20statements%20and%20while%20loops\n",
    "\n",
    "For a list of all relevant operators in Python, see:\n",
    "\n",
    "https://www.w3schools.com/python/python_operators.asp\n",
    "\n",
    "## If\n",
    "\n",
    "If statements check if a condition is True or False, and if True executes a certain script.\n",
    "\n",
    "If statements are written using the following syntax:\n",
    "\n",
    "    If condition:\n",
    "            Execute_if_true\n",
    "\t\n",
    "Note the use of ':' and the indent. Your script will break if a ':' is not provided, and the code you want to run is contained within the If statement using the indent. To indicate you want to continue in your normal script simply unindent and keep coding.\n",
    "\n",
    "### _Example_"
   ]
  },
  {
   "cell_type": "code",
   "execution_count": null,
   "id": "46d96ea0",
   "metadata": {},
   "outputs": [],
   "source": [
    "Deflection = 100 # mm\n",
    "Span = 2 #m\n",
    "Max_defl = Span*1000/360 # mm\n",
    "\n",
    "if Deflection >= Max_defl:\n",
    "    print('Beam fails deflection check. Maximum allowed deflection is {}'.format(Max_defl))"
   ]
  },
  {
   "cell_type": "markdown",
   "id": "52c6b9db",
   "metadata": {},
   "source": [
    "## Else\n",
    "\n",
    "Ordinarily, if the If result is False, the script skips the indented code and carries on. However, sometimes we want the script to perform another function for a False result. In this case, we use an Else statement. Else statements don't require a condition, they will just always run if the If condition is not met.\n",
    "\n",
    "### _Example_"
   ]
  },
  {
   "cell_type": "code",
   "execution_count": null,
   "id": "15cad22c",
   "metadata": {},
   "outputs": [],
   "source": [
    "Deflection = 1 # mm\n",
    "Span = 2 # m\n",
    "Max_defl = Span*1000/360\n",
    "\n",
    "if Deflection >= Max_defl:\n",
    "    print('Beam fails deflection check. Maximum allowed deflection is {}'.format(Max_defl))\n",
    "\n",
    "else:\n",
    "    print('Beam passes deflection.')"
   ]
  },
  {
   "cell_type": "markdown",
   "id": "fd494392",
   "metadata": {},
   "source": [
    "## Elif\n",
    "\n",
    "Elif statements are used when we want to check multiple conditions in a row, with different results depending on which condition is met. They must be preceded by an If statement\n",
    "\n",
    "Elif statements are written with the following syntax:\n",
    "\n",
    "    If condition:\t\n",
    "        Execute_this_bit\n",
    "\n",
    "    Elif condition:\n",
    "        Execute_this_bit\n",
    "\n",
    "    Else:\n",
    "        Execute_this_bit_instead\n",
    "\t\n",
    "Python will check each condition in order from top to bottom, and once one condition is found to be True, will skip the rest of the conditional group.\n",
    "\n",
    "#### Note: If is the starting term of a conditional group and Else is the end. Elif must be contained between the two of these, and writing a new If statement will begin a new conditional group that won't interact with any above ones.\n",
    "\n",
    "## _Example_"
   ]
  },
  {
   "cell_type": "code",
   "execution_count": null,
   "id": "838eaa1a",
   "metadata": {},
   "outputs": [],
   "source": [
    "Available_grades = ['C16', 'C24', 'C28']\n",
    "\n",
    "Beam = 'C16'\n",
    "\n",
    "if Beam == 'C16': \n",
    "    print('Beam is a C16 softwood')\n",
    "\n",
    "elif Beam == 'C24':\n",
    "    print('Beam is a C24 softwood')\n",
    "\n",
    "elif Beam == 'C28':\n",
    "    print('Beam is a C28 softwood')\n",
    "\n",
    "else:\n",
    "    print('Beam is not an available grade of timber')"
   ]
  },
  {
   "cell_type": "markdown",
   "id": "0dd2a34f",
   "metadata": {},
   "source": [
    "Alternatively, you could write:"
   ]
  },
  {
   "cell_type": "code",
   "execution_count": null,
   "id": "1d76b951",
   "metadata": {},
   "outputs": [],
   "source": [
    "Available_grades = ['C16', 'C24', 'C28']\n",
    "\n",
    "Beam = 'C16'\n",
    "\n",
    "if Beam in Available_grades:\n",
    "    print('Beam is a {} softwood'.format(Beam))\n",
    "\n",
    "else:\n",
    "    print('Beam is not an available grade of timber')"
   ]
  },
  {
   "cell_type": "markdown",
   "id": "7c20a5be",
   "metadata": {},
   "source": [
    "#### Note: Negative conditionals can be formed by using the 'not' keyword in Python. It is placed after If."
   ]
  },
  {
   "cell_type": "code",
   "execution_count": null,
   "id": "6052d797",
   "metadata": {},
   "outputs": [],
   "source": [
    "Available_grades = ['C16', 'C24', 'C28']\n",
    "\n",
    "Beam = 'C16'\n",
    "\n",
    "if not Beam in Available_grades:\n",
    "    print('Beam is not an available grade of timber')\n",
    "\n",
    "else:\n",
    "    print('Beam is a {} softwood'.format(Beam))"
   ]
  },
  {
   "cell_type": "markdown",
   "id": "a7bec2ab",
   "metadata": {},
   "source": [
    "## Your Turn\n",
    "\n",
    "You are checking deflection of beams in a house. Below are lists of the beams checked so far, the beams found to be failing, and the beams found to be passing. You are checking the next beam, who's details are listed in variables below. \n",
    "\n",
    "Calculate the deflection of the next beam (using 5wL^4/384EI), check whether this falls within the limits of Span/250. \n",
    "\n",
    "While checking, add the beam name to the list of beams checked, and to the appropriate pass or fail list. Finally, print the most recent beam checked and value of its deflection in a nicely formatted string."
   ]
  },
  {
   "cell_type": "code",
   "execution_count": null,
   "id": "144fa565",
   "metadata": {},
   "outputs": [],
   "source": [
    "Beams_checked = ['Arnold','Sylvester','Jason','Robert']\n",
    "Beams_failed = ['Robert']\n",
    "Beams_passed = ['Arnold','Sylvester','Jason']\n",
    "\n",
    "Beam_name = 'Curtis'\n",
    "L = 12 # m\n",
    "D = 400 # mm\n",
    "B = 200 # mm\n",
    "E = 10 # N/mm2\n",
    "I = B*D**3/12\n",
    "\n",
    "w = 14 # kN/m"
   ]
  }
 ],
 "metadata": {
  "kernelspec": {
   "display_name": "Python 3 (ipykernel)",
   "language": "python",
   "name": "python3"
  },
  "language_info": {
   "codemirror_mode": {
    "name": "ipython",
    "version": 3
   },
   "file_extension": ".py",
   "mimetype": "text/x-python",
   "name": "python",
   "nbconvert_exporter": "python",
   "pygments_lexer": "ipython3",
   "version": "3.10.9"
  }
 },
 "nbformat": 4,
 "nbformat_minor": 5
}
