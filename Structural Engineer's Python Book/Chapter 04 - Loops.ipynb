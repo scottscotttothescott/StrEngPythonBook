{
 "cells": [
  {
   "cell_type": "markdown",
   "id": "50e19fe6",
   "metadata": {},
   "source": [
    "# Chapter 04: Loops\n",
    "\n",
    "Loops are another essential part of Python, particularly when automating tasks. This chapter will explain the 2 main types of loop in Python: While and For loops.\n",
    "\n",
    "Loops are pieces of code that will execute repeatedly, either until a condition is met (While loops), or for a certain number of iterations (For loops).\n",
    "\n",
    "## While Loops\n",
    "\n",
    "A while loop will execute for as long as a certain condition is met, and is written in the following syntax:\n",
    "\n",
    "    while condition:\n",
    "        Code_to_execute\n",
    "\t\n",
    "Note the similarities with conditional statements in terms of the ':' and indentation.\n",
    "\n",
    "### _Example_"
   ]
  },
  {
   "cell_type": "code",
   "execution_count": null,
   "id": "58279a6d",
   "metadata": {},
   "outputs": [],
   "source": [
    "P = 12 # kN\n",
    "Rest_of_defl_equation = 2 # mm/kN\n",
    "\n",
    "Span = 14 # m\n",
    "\n",
    "Defl = P*Rest_of_defl_equation\n",
    "\n",
    "while Defl < Span/250:\n",
    "    P = P + 1\n",
    "    Defl = P*Rest_of_defl_equation\n",
    "\n",
    "print('Maximum allowable load = {} kN'.format(P))"
   ]
  },
  {
   "cell_type": "markdown",
   "id": "fa7748fb",
   "metadata": {},
   "source": [
    "## For Loops\n",
    "\n",
    "A for loop will iterate through a dataset and execute a piece of code on each item in that dataset. It is written with the following syntax:\n",
    "\n",
    "    for item in dataset:\n",
    "        Code_To_Execute\n",
    "\t\n",
    "#### Note: I can call the item in the for loop whatever I want. Commonly i is used, but something more specific can make code easier to read.\n",
    "\n",
    "### _Example_\n",
    "I have a set of beam depths. A hooligan with a chainsaw has sliced each beam in half, so I need to update the list to reflect that. Even though my list is short and I could just rewrite it, I make silly errors all the time, so recalculating each one by hand will likely end up wrong."
   ]
  },
  {
   "cell_type": "code",
   "execution_count": null,
   "id": "6ba83fc6",
   "metadata": {},
   "outputs": [],
   "source": [
    "Beam_depths = [200, 430, 654, 76, 550] # mm\n",
    "\n",
    "New_beam_depths = [] \n",
    "# I have created an empty list that I can add to in my loop. Note that this needs to be outside of the loop. \n",
    "# Otherwise the loop will reset the list every time it runs.\n",
    "\n",
    "for beam in Beam_depths: \n",
    "    beam = beam/2\n",
    "    New_beam_depths.append(beam)\n",
    "\n",
    "print(New_beam_depths)"
   ]
  },
  {
   "cell_type": "markdown",
   "id": "af9c5461",
   "metadata": {},
   "source": [
    "#### Note: There is a far easier way of doing simple for loops on lists, which will be covered in Chapter 9.\n",
    "\n",
    "Loops are also useful for performing iterative tasks numerous times. In order to perform a calculation 50 times, I could write the following for loop:\n",
    "\n",
    "In this scenario I have a chocolate packet, with 52 segments. Each day, I eat 25% of my packet, and buy 1 segment from the local pick & mix. After 12 days, how many segments would I have?\n"
   ]
  },
  {
   "cell_type": "code",
   "execution_count": null,
   "id": "0c6fd8aa",
   "metadata": {},
   "outputs": [],
   "source": [
    "segments = 52\n",
    "\n",
    "for i in range(1,13):\n",
    "    segments = segments*0.75 + 1\n",
    "\n",
    "print(segments)"
   ]
  },
  {
   "cell_type": "markdown",
   "id": "059aa23a",
   "metadata": {},
   "source": [
    "The command range(1,13) creates a list from 1 - 12, therefore my for loop will iterate 12 times when it runs through the list. When using range() to create a list, the final number in your list will be the second input - 1.\n",
    "\n",
    "\n",
    "## Your Turn\n",
    "\n",
    "You are assessing beams in a house. You have a dictionary of all the beams to be checked and their properties, and some empty lists to populate. Write a for loop that will calculate the deflection of each beam, print the deflection, check if the beam is passing or failing (Using Span/250), and add the beam to the relevant lists."
   ]
  },
  {
   "cell_type": "code",
   "execution_count": null,
   "id": "b1414098",
   "metadata": {},
   "outputs": [],
   "source": [
    "beams = {'B1' : {'Name' : 'Arnold',\n",
    "                 'Span' : 12, # m\n",
    "                 'Loading' : 43, # kN\n",
    "                 'Rest of deflection equation' : 3}, # mm/kN\n",
    "        'B2' : {'Name' : 'Sylvester',\n",
    "                 'Span' : 3,\n",
    "                 'Loading' : 13,\n",
    "                 'Rest of deflection equation' : 5},\n",
    "        'B3' : {'Name' : 'Jason',\n",
    "                 'Span' : 5,\n",
    "                 'Loading' : 6,\n",
    "                 'Rest of deflection equation' : 7},\n",
    "        'B4' : {'Name' : 'Robert',\n",
    "                 'Span' : 12,\n",
    "                 'Loading' : 1,\n",
    "                 'Rest of deflection equation' : 3000},\n",
    "        'B5' : {'Name' : 'Curtis',\n",
    "                 'Span' : 50,\n",
    "                 'Loading' : 2,\n",
    "                 'Rest of deflection equation' : 1},\n",
    "}\n",
    "\n",
    "deflections = []\n",
    "beams_checked = []\n",
    "beams_failing = []\n",
    "beams_passing = []\n",
    "\n",
    "# Type your code below\n",
    "\n"
   ]
  }
 ],
 "metadata": {
  "kernelspec": {
   "display_name": "Python 3 (ipykernel)",
   "language": "python",
   "name": "python3"
  },
  "language_info": {
   "codemirror_mode": {
    "name": "ipython",
    "version": 3
   },
   "file_extension": ".py",
   "mimetype": "text/x-python",
   "name": "python",
   "nbconvert_exporter": "python",
   "pygments_lexer": "ipython3",
   "version": "3.10.9"
  }
 },
 "nbformat": 4,
 "nbformat_minor": 5
}
