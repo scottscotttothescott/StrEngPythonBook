{
 "cells": [
  {
   "cell_type": "markdown",
   "id": "8e0a309d",
   "metadata": {},
   "source": [
    "# Chapter 01: Fundamentals\n",
    "\n",
    "This chapter will explain the very basic principles of Python scripts, to give you a better idea of what is going on when you read a script."
   ]
  },
  {
   "cell_type": "markdown",
   "id": "f064c0f5",
   "metadata": {},
   "source": [
    "## Variables \n",
    "\n",
    "*In a nutshell* : a variable is a container to hold data\n",
    "\n",
    "For example:"
   ]
  },
  {
   "cell_type": "code",
   "execution_count": null,
   "id": "bdd38bd9",
   "metadata": {},
   "outputs": [],
   "source": [
    "# assign value to 'number variable'\n",
    "number = 10\n",
    "print(number)\n",
    "\n",
    "# Output: \n",
    "# 10"
   ]
  },
  {
   "cell_type": "markdown",
   "id": "e595abeb",
   "metadata": {},
   "source": [
    "Here we've created a variable called, 'number' that has a value of 10. \n",
    "\n",
    "As in the above example, the assignment operator `=` is used to assign a value to a variable.\n",
    "\n",
    "Whenever we refer to this variable, Python will retrieve the value of 10. Variables can hold various data types (more on this later).\n",
    "\n",
    "The value of a variable may also be changed. For example: "
   ]
  },
  {
   "cell_type": "code",
   "execution_count": null,
   "id": "1445325f",
   "metadata": {},
   "outputs": [],
   "source": [
    "# assign value to 'number' variable\n",
    "number = 10\n",
    "print(number)\n",
    "\n",
    "# re-assign value to 'number' variable\n",
    "number = 20\n",
    "print(number)\n",
    "\n",
    "# Output: \n",
    "# 10\n",
    "# 20"
   ]
  },
  {
   "cell_type": "markdown",
   "id": "f719b8c4",
   "metadata": {},
   "source": [
    "Variables are defined once and can be referred to many times. \n",
    "\n",
    "Tips for using variables:\n",
    "+ Python is case sensitive: if the variable is named 'number', 'Number' or 'NUMBER' will not retrieve it\n",
    "+ Variable names must not have spaces. Use underscores to seperate words, eg: variable_name\n",
    "+ Keep names short, unique and understandable. All part of good programming practice"
   ]
  },
  {
   "cell_type": "markdown",
   "id": "68d07ae2",
   "metadata": {},
   "source": [
    "## Types of Data\n",
    "There are generally 3 key types of data that you may work with in Python:\n",
    "\n",
    "Strings\n",
    "- Python's way of interpreting sentences and words\n",
    "- These are denoted by containing the sentence in quotation marks (' ' or \" \") \n",
    "- The functions Python can run on strings are limited, but what's useful is Python can recognise words and identify whether they are contained within a string, so strings are useful identifiers\n",
    "- Strings are also very useful when printing results (more on this below) in a way that a human can understand.\n",
    "\n",
    "Integers\n",
    "- Integers in Python are, you guessed it, integers.\n",
    "\n",
    "Floats\n",
    "- A float is Python's way of describing a number with decimals (or 'floating' decimals)\n",
    "- Floats can be manipulated in Python in all sorts of ways, Python being effectively a calculator when working with floats.\n",
    "\n",
    "#### Note: not all data is compatible with one another. For example, you can't add an integer to a string and expect it to work."
   ]
  },
  {
   "cell_type": "markdown",
   "id": "5b53bf76",
   "metadata": {},
   "source": [
    "### _Example_"
   ]
  },
  {
   "cell_type": "code",
   "execution_count": null,
   "id": "2f6b00e7",
   "metadata": {},
   "outputs": [],
   "source": [
    "# This is a string\n",
    "\"C24 Softwood\"\n",
    "\n",
    "# This is an integer\n",
    "24\n",
    "\n",
    "# This is a float\n",
    "1.3"
   ]
  },
  {
   "cell_type": "markdown",
   "id": "2cd49f09",
   "metadata": {},
   "source": [
    "## Maths in Python\n",
    "\n",
    "As stated earlier, Python can manipulate numbers as a calculator could, but it has it's own syntax for performing maths. You can find a more comprehensive list of syntax online, but for now the key syntax is:\n",
    "\n",
    "$+$ = plus\n",
    "\n",
    "$-$ = minus\n",
    "\n",
    "$*$ = multiply\n",
    "\n",
    "$/$ = divide\n",
    "\n",
    "$**$ = to the power of"
   ]
  },
  {
   "cell_type": "markdown",
   "id": "6d0d25a6",
   "metadata": {},
   "source": [
    "## Printing Results\n",
    "\n",
    "When a Python script runs, it runs in the background and won't tell us anything unless we ask it to (annoying for very short scripts but extremely useful if your script gets longer and you only need certain info)\n",
    "\n",
    "If we want to see an output (Eg. A calculation result, the name of a variable etc.) we can tell Python to 'print' what we want to see, and it will show up in the IDE console/terminal.\n",
    "\n",
    "To print something, use the following command:\n",
    "\n",
    "    print(what we want to print)\n"
   ]
  },
  {
   "cell_type": "markdown",
   "id": "42711123",
   "metadata": {},
   "source": [
    "### _Example_"
   ]
  },
  {
   "cell_type": "code",
   "execution_count": 2,
   "id": "8a3cb282",
   "metadata": {},
   "outputs": [
    {
     "name": "stdout",
     "output_type": "stream",
     "text": [
      "The timber type is:\n",
      "C24 Softwood\n"
     ]
    }
   ],
   "source": [
    "timber_type = 'C24 Softwood'\n",
    "f_c0k = 24\n",
    "\n",
    "print('The timber type is:')\n",
    "print(timber_type)\n",
    "print('The characteristic strength is :')\n",
    "print(f_c0k)"
   ]
  },
  {
   "cell_type": "markdown",
   "id": "f4e25b63",
   "metadata": {},
   "source": [
    "### String Formatting\n",
    "\n",
    "You might notice that this output is a little broken up and makes for a messy script. We can get Python to print items all on one line in a number of ways (commas, .format(), f'' strings etc.), but the most common is using the .format() command.\n",
    "\n",
    "The curly brackets '{}' are placed where a variable should be inserted. The variables are then listed within the brackets of the .format() in order of which they appear in the string."
   ]
  },
  {
   "cell_type": "code",
   "execution_count": null,
   "id": "fb6e23ea",
   "metadata": {},
   "outputs": [],
   "source": [
    "print('The timber type is {}. Its characteristic strength is {}'.format(timber_type, f_c0k))"
   ]
  },
  {
   "cell_type": "markdown",
   "id": "a58adcfc",
   "metadata": {},
   "source": [
    "## Your Turn\n",
    "\n",
    "In the script box below, define another timber type with it’s own characteristic compressive strength, Kmod, and FoS using variables. Calculate its design compressive strength and print the result using a formatted string."
   ]
  },
  {
   "cell_type": "code",
   "execution_count": null,
   "id": "521ce772",
   "metadata": {},
   "outputs": [],
   "source": [
    "# Type your code below\n",
    "\n"
   ]
  }
 ],
 "metadata": {
  "kernelspec": {
   "display_name": "Python 3 (ipykernel)",
   "language": "python",
   "name": "python3"
  },
  "language_info": {
   "codemirror_mode": {
    "name": "ipython",
    "version": 3
   },
   "file_extension": ".py",
   "mimetype": "text/x-python",
   "name": "python",
   "nbconvert_exporter": "python",
   "pygments_lexer": "ipython3",
   "version": "3.10.9"
  }
 },
 "nbformat": 4,
 "nbformat_minor": 5
}
