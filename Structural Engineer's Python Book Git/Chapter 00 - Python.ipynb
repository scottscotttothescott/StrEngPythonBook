{
 "cells": [
  {
   "cell_type": "markdown",
   "id": "64d7d613",
   "metadata": {},
   "source": [
    "# Chapter 00: Python\n",
    "\n",
    "This chapter will explain the very basics of Python to get you started on your journey."
   ]
  },
  {
   "cell_type": "markdown",
   "id": "5472078b",
   "metadata": {},
   "source": [
    "## What is Python?\n",
    "\n",
    "Python is a programming language. It allows us to give commands/instructions to computers so they will do our bidding.\n",
    "\n",
    "Fundamentally, Python can:\n",
    "- Carry out an action in another program\n",
    "- Collect/Analyse/Process data\n",
    "- Store/Export data to other programs for review\n",
    "\n",
    "Many languages are out there, but Python is the most popular for its ease of use, flexibility, and ability to interface with other programs.\n",
    "\n",
    "Like any language, Python comes with its own set of rules for grammar, layout etc. This course aims to teach you the basics."
   ]
  },
  {
   "cell_type": "markdown",
   "id": "43940b4f",
   "metadata": {},
   "source": [
    "## Why you should use it\n",
    "\n",
    "Structural engineering is plagued with inefficiencies. Such as ...\n",
    "+ Manual data entry (reading results from a model, typing them into design software)\n",
    "+ Task repetition\n",
    "+ Manual workflows\n",
    "\n",
    "An ability to write in Python allows engineers to automate design tasks and consider a higher level of creativity and design complexity. Hours of time are freed up to optimise designs or to focus on gritty detail. \n",
    "\n",
    "We're able to avoid design rationalisation and optimise structures -> critical now more than ever as we strive to limit material usage.  \n",
    "\n",
    "At HTS we've demonstrated this in many cases:\n",
    "+ Hackney Road column design\n",
    "+ HTS Concept Design Tool\n",
    "+ HTS Stockmatcher\n",
    "+ Wells House Composite Frame Cumulative Deflection Processor \n",
    "\n",
    "As a learned computational engineer, you will not necessarily understand all aspects of coding, but you'll be familiar with the capabiliies of Python and will identify daily chores that are ripe for automation/optimisation. "
   ]
  },
  {
   "cell_type": "markdown",
   "id": "7b542d03",
   "metadata": {},
   "source": [
    "## How do you use it?\n",
    "\n",
    "Think of Python as music. \n",
    "\n",
    "You are the musician, and the code we write is sheet music. \n",
    "\n",
    "To play the music *(run the code)* you need an instrument. \n",
    "\n",
    "The instrument in this allegory is an *interpreter*. This is what reads the sheet, and plays our music.\n",
    "\n",
    "There are more advanced instruments called IDE's *(Integrated Developer Environnments)*. These read the music but also help you to write it. \n",
    "\n",
    "`Its recommended to start off using an IDE called Spyder, downloaded as part of Anaconda:`\n",
    "https://www.anaconda.com/download\n"
   ]
  },
  {
   "cell_type": "markdown",
   "id": "0dbff040",
   "metadata": {},
   "source": [
    "\n",
    "## What is a script?\n",
    "\n",
    "Python is written and read only one line at a time. Lines of code are collated into sequences referred to as **Scripts**\n",
    "\n",
    "A script is a sequence of instructions to be performed - a step by step list that is read from top to bottom. These are a fundamental aspect of building programs. \n",
    "\n",
    "Scripts always need to be saved to run. With python they are saved with a '.py' suffix. "
   ]
  },
  {
   "cell_type": "markdown",
   "id": "e0681493",
   "metadata": {},
   "source": [
    "## Fundamental Syntax Rules (Grammar)\n",
    "\n",
    "Python has a number of rules for how code will be executed. Like a calculator, if brackets are in the wrong place etc. the script will break.\n",
    "\n",
    "The most important to understand are Python's use of hashtags '#', spaces ' ', commas ',', colons ':', brackets '() [] {}', and indentation.\n",
    "\n",
    "### Hashtags - Commenting\n",
    "\n",
    "A '#' symbol will identifies a comment within the script\n",
    "\n",
    "You'll see plenty of #'s throughout this course. They're great for annotating/describing what the script is doing. \n",
    "\n",
    "When you run a Python script, all comments are ignored and not executed. Comments are therefore extremely useful for:\n",
    "\n",
    "- Explaining what your script is doing\n",
    "- Making scripts easy for others to understand\n",
    "- Temporarily removing bits of code that you don't want Python to run just yet\n",
    "- Marking units on numbers\n",
    "\n",
    "It's easy to forget why you wrote a script in a certain way, so commenting is __extremely important__ if you want your code to be understood by others, or yourself if you put it down and pick it back up a few weeks later.\n",
    "\n",
    "### Spaces\n",
    "\n",
    "Unlike ancient Roman Latin, and similar to Irish scribes in the late 7th Century, Python uses spaces to separate keywords, variables, etc. When typing in Python, if you add a space it will indicate that what you have just written is what it needs to read. You will almost never type two words in a row in Python without including some sort of other punctuation such as those listed above, and use of punctuation such as brackets often won't work if there is a space separating the brackets from the function.\n",
    "\n",
    "For example, if I want to use Python's 'print' function (more on that in Chapter 1), I would type:\n",
    "\n",
    "    'print(what_i_want_to_print)'\n",
    "\n",
    "If I typed:\n",
    "\n",
    "    'print (what_i_want_to_print)'\n",
    "    \n",
    "it would break.\n",
    "\n",
    "### Commas\n",
    "\n",
    "In python, commas are used to separate items. If I wanted to call or define more than one variable in a row (more on variables in Chapter 1), Python wouldn't understand 'variable_1 variable_2'. It would however understand 'variable_1, variable_2'. \n",
    "\n",
    "### Brackets\n",
    "\n",
    "As you progress through this couse, you will find yourself using all kinds of brackets many times. The most important idea to note is that a bracket (almost) always must come directly after a keyword/function without a space separating them, and bracket must (always) always be closed if they are opened.\n",
    "\n",
    "### Indentation and Colons\n",
    "\n",
    "Python emphasises code readibility using indentation. Indents highlight where code belongs within a *section* of the script. \n",
    "\n",
    "This makes it easy to spot what code is included within a for-loop for example. \n",
    "\n",
    "More on this later, but remember indentation as a fundamental part of python formatting. \n",
    "\n",
    "*By 'section', we mean something like a for loop or function.* "
   ]
  }
 ],
 "metadata": {
  "kernelspec": {
   "display_name": "Python 3 (ipykernel)",
   "language": "python",
   "name": "python3"
  },
  "language_info": {
   "codemirror_mode": {
    "name": "ipython",
    "version": 3
   },
   "file_extension": ".py",
   "mimetype": "text/x-python",
   "name": "python",
   "nbconvert_exporter": "python",
   "pygments_lexer": "ipython3",
   "version": "3.10.9"
  }
 },
 "nbformat": 4,
 "nbformat_minor": 5
}
